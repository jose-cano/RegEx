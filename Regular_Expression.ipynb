{
  "nbformat": 4,
  "nbformat_minor": 0,
  "metadata": {
    "colab": {
      "name": "Regular Expression.ipynb",
      "provenance": [],
      "collapsed_sections": [],
      "authorship_tag": "ABX9TyM5LC+im58urs95MGuGVeGg",
      "include_colab_link": true
    },
    "kernelspec": {
      "name": "python3",
      "display_name": "Python 3"
    },
    "language_info": {
      "name": "python"
    }
  },
  "cells": [
    {
      "cell_type": "markdown",
      "metadata": {
        "id": "view-in-github",
        "colab_type": "text"
      },
      "source": [
        "<a href=\"https://colab.research.google.com/github/jose-cano/RegEx/blob/main/Regular_Expression.ipynb\" target=\"_parent\"><img src=\"https://colab.research.google.com/assets/colab-badge.svg\" alt=\"Open In Colab\"/></a>"
      ]
    },
    {
      "cell_type": "markdown",
      "metadata": {
        "id": "AC7Uti8igYOB"
      },
      "source": [
        "# **Regular Expression**\n",
        "\n",
        "A regular expression (regex) is a sequence of characters that specifies a search pattern. Usually such patterns are used by string-searching algorithms for \"find\" or \"find and replace\" operations on strings, or for input validation. It is a technique developed in theoretical computer science and formal language theory. Many programming languages provide regex capabilities either built-in or via libraries, as it has uses in many situations."
      ]
    },
    {
      "cell_type": "markdown",
      "metadata": {
        "id": "Pq68z3O2hl_n"
      },
      "source": [
        "To use regular expressions in Python, we import the `re` module."
      ]
    },
    {
      "cell_type": "code",
      "metadata": {
        "id": "-tK5CPRGgFqr"
      },
      "source": [
        "import re"
      ],
      "execution_count": 1,
      "outputs": []
    },
    {
      "cell_type": "markdown",
      "metadata": {
        "id": "I_TDddTdiZO6"
      },
      "source": [
        "When constructing a regex pattern in Python, we will often need to use a raw string. A Python raw string is created by prefixing a string literal with ‘r’ or ‘R’. Python raw string treats backslash (\\\\) as a literal character. This is useful when we want to have a string that contains backslash and don’t want it to be treated as an escape character."
      ]
    },
    {
      "cell_type": "markdown",
      "metadata": {
        "id": "oYKkm-V4jG1H"
      },
      "source": [
        "In Python, we can use the re.compile() method.\n",
        "\n",
        "re.compile(pattern, flags=0)\n",
        "\n",
        "Compile a regular expression pattern into a regular expression object, which can be used for matching using its match(), search() and other methods, described below.\n",
        "\n",
        "The expression’s behaviour can be modified by specifying a flags value. Values can be any of the following variables, combined using bitwise OR (the | operator)."
      ]
    },
    {
      "cell_type": "code",
      "metadata": {
        "id": "NDmqqNOoiD_U"
      },
      "source": [
        "text_to_search = '''\n",
        "abcdefghijklmnopqurtuvwxyz\n",
        "ABCDEFGHIJKLMNOPQRSTUVWXYZ\n",
        "1234567890\n",
        "\n",
        "Ha HaHa\n",
        "\n",
        "MetaCharacters (Need to be escaped):\n",
        ". ^ $ * + ? { } [ ] \\ | ( )\n",
        "\n",
        "coreyms.com\n",
        "\n",
        "321-555-4321\n",
        "123.555.1234\n",
        "123*555*1234\n",
        "800-555-1234\n",
        "900-555-1234\n",
        "\n",
        "Mr. Schafer\n",
        "Mr Smith\n",
        "Ms Davis\n",
        "Mrs. Robinson\n",
        "Mr. T\n",
        "'''"
      ],
      "execution_count": 2,
      "outputs": []
    },
    {
      "cell_type": "markdown",
      "metadata": {
        "id": "NnGAPYS8mIk-"
      },
      "source": [
        "Finding \"abc\" in our text using re.finditer()\n",
        "\n",
        "re.finditer(pattern, string, flags=0)\n",
        "\n",
        "Return an iterator yielding match objects over all non-overlapping matches for the RE pattern in string. The string is scanned left-to-right, and matches are returned in the order found. Empty matches are included in the result.\n",
        "\n",
        "Note that pattern matching is case sensitive.\n"
      ]
    },
    {
      "cell_type": "code",
      "metadata": {
        "colab": {
          "base_uri": "https://localhost:8080/"
        },
        "id": "NZAUsy39lcs2",
        "outputId": "9cfada95-bfaa-4f51-81d3-b3346953e65d"
      },
      "source": [
        "pattern = re.compile(r'abc')\n",
        "\n",
        "matches = pattern.finditer(text_to_search)\n",
        "\n",
        "for match in matches:\n",
        "  print(match)"
      ],
      "execution_count": 3,
      "outputs": [
        {
          "output_type": "stream",
          "name": "stdout",
          "text": [
            "<re.Match object; span=(1, 4), match='abc'>\n"
          ]
        }
      ]
    },
    {
      "cell_type": "markdown",
      "metadata": {
        "id": "DXRhiCFeoKjW"
      },
      "source": [
        "What if we wanted to match a period and find ocurences of it in our text? (`.`)\n",
        "Notice how we prefix it with a backlash. This is because a period is a meta-character in regex, meaning it is used for a specific purpose.\n",
        "\n",
        "(Dot.) In the default mode matches any character except a newline. If the DOTALL flag has been specified, this matches any character including a newline."
      ]
    },
    {
      "cell_type": "code",
      "metadata": {
        "colab": {
          "base_uri": "https://localhost:8080/"
        },
        "id": "tYM3PUkxoIu-",
        "outputId": "38f189c4-f192-4553-c8b8-253623377253"
      },
      "source": [
        "pattern = re.compile(r'\\.')\n",
        "\n",
        "matches = pattern.finditer(text_to_search)\n",
        "\n",
        "for match in matches:\n",
        "  print(match)"
      ],
      "execution_count": 4,
      "outputs": [
        {
          "output_type": "stream",
          "name": "stdout",
          "text": [
            "<re.Match object; span=(113, 114), match='.'>\n",
            "<re.Match object; span=(149, 150), match='.'>\n",
            "<re.Match object; span=(171, 172), match='.'>\n",
            "<re.Match object; span=(175, 176), match='.'>\n",
            "<re.Match object; span=(223, 224), match='.'>\n",
            "<re.Match object; span=(254, 255), match='.'>\n",
            "<re.Match object; span=(267, 268), match='.'>\n"
          ]
        }
      ]
    },
    {
      "cell_type": "markdown",
      "metadata": {
        "id": "VVNRWY5Cp2EM"
      },
      "source": [
        "A use case for escaping a dot might be finding a URL within a text."
      ]
    },
    {
      "cell_type": "code",
      "metadata": {
        "colab": {
          "base_uri": "https://localhost:8080/"
        },
        "id": "AOQUnqM9qCC2",
        "outputId": "1c5dad78-7846-4916-ed5d-0f02c2c83e25"
      },
      "source": [
        "pattern = re.compile(r'.......\\.com')\n",
        "\n",
        "matches = pattern.finditer(text_to_search)\n",
        "\n",
        "for match in matches:\n",
        "  print(match)"
      ],
      "execution_count": 5,
      "outputs": [
        {
          "output_type": "stream",
          "name": "stdout",
          "text": [
            "<re.Match object; span=(142, 153), match='coreyms.com'>\n"
          ]
        }
      ]
    },
    {
      "cell_type": "markdown",
      "metadata": {
        "id": "PZvP2ztCreH7"
      },
      "source": [
        "Finding a literal substring isn't too exciting, because thats something we can already do in Python. Finding more complex patterns will require the use of the meta-characters."
      ]
    },
    {
      "cell_type": "code",
      "metadata": {
        "colab": {
          "base_uri": "https://localhost:8080/"
        },
        "id": "qYcBdt2TqZFF",
        "outputId": "c8861a16-955a-47ad-fe58-1a25e8959cc4"
      },
      "source": [
        "print(text_to_search.find('abc'))\n",
        "print(text_to_search.find('.com'))"
      ],
      "execution_count": 6,
      "outputs": [
        {
          "output_type": "stream",
          "name": "stdout",
          "text": [
            "1\n",
            "149\n"
          ]
        }
      ]
    },
    {
      "cell_type": "markdown",
      "metadata": {
        "id": "Edm-TaLasFAl"
      },
      "source": [
        "# **Meta Characters**\n",
        "\n",
        ".       - Any Character Except New Line\n",
        "\n",
        "\\d      - Digit (0-9)\n",
        "\n",
        "\\D      - Not a Digit (0-9)\n",
        "\n",
        "\\w      - Word Character (a-z, A-Z, 0-9, _)\n",
        "\n",
        "\\W      - Not a Word Character\n",
        "\n",
        "\\s      - Whitespace (space, tab, newline)\n",
        "\n",
        "\\S      - Not Whitespace (space, tab, newline)\n",
        "_______________________________________________\n",
        "\\b      - Word Boundary\n",
        "\n",
        "\\B      - Not a Word Boundary\n",
        "\n",
        "^       - Beginning of a String\n",
        "\n",
        "$       - End of a String\n",
        "______________________________________________\n",
        "[]      - Matches Characters in brackets\n",
        "\n",
        "[^ ]    - Matches Characters NOT in brackets\n",
        "\n",
        "|       - Either Or\n",
        "\n",
        "( )     - Group\n",
        "_____________________________________________\n",
        "\n",
        "Quantifiers:\n",
        "\n",
        "\\*       - 0 or More\n",
        "\n",
        "\\+       - 1 or More\n",
        "\n",
        "?       - 0 or One\n",
        "\n",
        "{3}     - Exact Number\n",
        "\n",
        "{3,4}   - Range of Numbers (Minimum, Maximum)\n"
      ]
    },
    {
      "cell_type": "markdown",
      "metadata": {
        "id": "GqkMxZYpuP7P"
      },
      "source": [
        "Word boundaries are inviible spaces before or after characters.\n",
        "In our text we have a line that reads:\n",
        "\n",
        "`Ha Haha`\n",
        "\n",
        "With the following pattern, we match the first two `Ha`'s because they are preceded by a word boundary (newline and space in this case)."
      ]
    },
    {
      "cell_type": "code",
      "metadata": {
        "colab": {
          "base_uri": "https://localhost:8080/"
        },
        "id": "LrYekY6ls2f-",
        "outputId": "1b2f7dcc-4fa6-40de-dc26-d8cf2cf51eaf"
      },
      "source": [
        "pattern = re.compile(r'\\bHa')\n",
        "\n",
        "matches = pattern.finditer(text_to_search)\n",
        "\n",
        "for match in matches:\n",
        "  print(match)"
      ],
      "execution_count": 7,
      "outputs": [
        {
          "output_type": "stream",
          "name": "stdout",
          "text": [
            "<re.Match object; span=(67, 69), match='Ha'>\n",
            "<re.Match object; span=(70, 72), match='Ha'>\n"
          ]
        }
      ]
    },
    {
      "cell_type": "markdown",
      "metadata": {
        "id": "eVDrsFj4vKtD"
      },
      "source": [
        "To match just the last `Ha`, we can use `\\B` to specify Not a word boundary."
      ]
    },
    {
      "cell_type": "code",
      "metadata": {
        "colab": {
          "base_uri": "https://localhost:8080/"
        },
        "id": "X3T-grRkvVL3",
        "outputId": "a5fde97b-3a4b-49d2-b0a6-3458c3a28217"
      },
      "source": [
        "pattern = re.compile(r'\\BHa')\n",
        "\n",
        "matches = pattern.finditer(text_to_search)\n",
        "\n",
        "for match in matches:\n",
        "  print(match)"
      ],
      "execution_count": 8,
      "outputs": [
        {
          "output_type": "stream",
          "name": "stdout",
          "text": [
            "<re.Match object; span=(72, 74), match='Ha'>\n"
          ]
        }
      ]
    },
    {
      "cell_type": "markdown",
      "metadata": {
        "id": "4A7xR4wQwPgH"
      },
      "source": [
        "To search for a pattern at the beginning of a string, we can use the `^` character.\n",
        "\n",
        "Anything after `^` has to be at the start of the string."
      ]
    },
    {
      "cell_type": "code",
      "metadata": {
        "colab": {
          "base_uri": "https://localhost:8080/"
        },
        "id": "hktyR79ywOek",
        "outputId": "f8fb3427-fa3f-44f8-9558-776fba2fe687"
      },
      "source": [
        "sentence = 'Start a sentence and then bring it to an end'\n",
        "pattern = re.compile(r'^St')\n",
        "\n",
        "matches = pattern.finditer(sentence)\n",
        "\n",
        "for match in matches:\n",
        "  print(match)"
      ],
      "execution_count": 9,
      "outputs": [
        {
          "output_type": "stream",
          "name": "stdout",
          "text": [
            "<re.Match object; span=(0, 2), match='St'>\n"
          ]
        }
      ]
    },
    {
      "cell_type": "markdown",
      "metadata": {
        "id": "VvgbjHJqw_YA"
      },
      "source": [
        "Similarly, to search the end of a string, we use `$`."
      ]
    },
    {
      "cell_type": "code",
      "metadata": {
        "colab": {
          "base_uri": "https://localhost:8080/"
        },
        "id": "mtwHamxwxFCT",
        "outputId": "85b0b57d-f2c6-4682-fed0-a8d9cf730398"
      },
      "source": [
        "pattern = re.compile(r'end$')\n",
        "\n",
        "matches = pattern.finditer(sentence)\n",
        "\n",
        "for match in matches:\n",
        "  print(match)"
      ],
      "execution_count": 10,
      "outputs": [
        {
          "output_type": "stream",
          "name": "stdout",
          "text": [
            "<re.Match object; span=(41, 44), match='end'>\n"
          ]
        }
      ]
    },
    {
      "cell_type": "markdown",
      "metadata": {
        "id": "JzEJb_rWxcIj"
      },
      "source": [
        "# **Character sets**"
      ]
    },
    {
      "cell_type": "code",
      "metadata": {
        "colab": {
          "base_uri": "https://localhost:8080/"
        },
        "id": "IGOTrtSGxiQa",
        "outputId": "77364a84-1405-4a5f-e7bc-db0a1c0bd692"
      },
      "source": [
        "pattern = re.compile(r'\\d\\d\\d\\D\\d\\d\\d\\D\\d\\d\\d\\d')\n",
        "\n",
        "matches = pattern.finditer(text_to_search)\n",
        "\n",
        "for match in matches:\n",
        "  print(match)"
      ],
      "execution_count": 11,
      "outputs": [
        {
          "output_type": "stream",
          "name": "stdout",
          "text": [
            "<re.Match object; span=(155, 167), match='321-555-4321'>\n",
            "<re.Match object; span=(168, 180), match='123.555.1234'>\n",
            "<re.Match object; span=(181, 193), match='123*555*1234'>\n",
            "<re.Match object; span=(194, 206), match='800-555-1234'>\n",
            "<re.Match object; span=(207, 219), match='900-555-1234'>\n"
          ]
        }
      ]
    },
    {
      "cell_type": "markdown",
      "metadata": {
        "id": "0TCGRkfg4YPP"
      },
      "source": [
        "We can specify a character set to match a specific group of characters. Lets use a character set to get phone numbers that are separated only by a `-` or a `.`.\n",
        "\n",
        "Notice that it is not necessary to escape the `.` in the character set.\n",
        "\n",
        " Also, we only match one character at a time, either a `-` or a `.`."
      ]
    },
    {
      "cell_type": "code",
      "metadata": {
        "colab": {
          "base_uri": "https://localhost:8080/"
        },
        "id": "0OX9vO6J4liU",
        "outputId": "e364bd83-8199-433a-af4d-4944a1e9005d"
      },
      "source": [
        "pattern = re.compile(r'\\d\\d\\d[-.]\\d\\d\\d[-.]\\d\\d\\d\\d')\n",
        "\n",
        "matches = pattern.finditer(text_to_search)\n",
        "\n",
        "for match in matches:\n",
        "  print(match)"
      ],
      "execution_count": 12,
      "outputs": [
        {
          "output_type": "stream",
          "name": "stdout",
          "text": [
            "<re.Match object; span=(155, 167), match='321-555-4321'>\n",
            "<re.Match object; span=(168, 180), match='123.555.1234'>\n",
            "<re.Match object; span=(194, 206), match='800-555-1234'>\n",
            "<re.Match object; span=(207, 219), match='900-555-1234'>\n"
          ]
        }
      ]
    },
    {
      "cell_type": "markdown",
      "metadata": {
        "id": "64cnGCuY7HKd"
      },
      "source": [
        "Matching a number that starts with `800` or `900`."
      ]
    },
    {
      "cell_type": "code",
      "metadata": {
        "colab": {
          "base_uri": "https://localhost:8080/"
        },
        "id": "no1Ps2nX7GdI",
        "outputId": "85e58af0-b573-4ed5-89b8-5be63342c0fc"
      },
      "source": [
        "pattern = re.compile(r'[89]00[-.]\\d\\d\\d[-.]\\d\\d\\d\\d')\n",
        "\n",
        "matches = pattern.finditer(text_to_search)\n",
        "\n",
        "for match in matches:\n",
        "  print(match)"
      ],
      "execution_count": 13,
      "outputs": [
        {
          "output_type": "stream",
          "name": "stdout",
          "text": [
            "<re.Match object; span=(194, 206), match='800-555-1234'>\n",
            "<re.Match object; span=(207, 219), match='900-555-1234'>\n"
          ]
        }
      ]
    },
    {
      "cell_type": "markdown",
      "metadata": {
        "id": "PaIj15a11sXa"
      },
      "source": [
        "From a file, specifying `.group(0)` to get just the phone numbers."
      ]
    },
    {
      "cell_type": "code",
      "metadata": {
        "colab": {
          "base_uri": "https://localhost:8080/"
        },
        "id": "lR-bFH5P1LOo",
        "outputId": "1c840f1a-f04a-49ad-c522-00e91ec4369e"
      },
      "source": [
        "with open(\"data.txt\", 'r') as f:\n",
        "  contents = f.read()\n",
        "\n",
        "  matches = pattern.finditer(contents)\n",
        "\n",
        "  for match in matches:\n",
        "    print(match.group(0))"
      ],
      "execution_count": 14,
      "outputs": [
        {
          "output_type": "stream",
          "name": "stdout",
          "text": [
            "800-555-5669\n",
            "900-555-9340\n",
            "800-555-6771\n",
            "900-555-3205\n",
            "800-555-6089\n",
            "800-555-7100\n",
            "900-555-5118\n",
            "900-555-5428\n",
            "800-555-8810\n",
            "900-555-9598\n",
            "800-555-2420\n",
            "900-555-3567\n",
            "800-555-3216\n",
            "900-555-7755\n",
            "800-555-1372\n",
            "900-555-6426\n"
          ]
        }
      ]
    },
    {
      "cell_type": "markdown",
      "metadata": {
        "id": "OfNGiDo6CDKa"
      },
      "source": [
        "The `-` within a character set can be used to specify a range. For example [a-z] will match all lowercase characters from a to z.\n",
        "\n",
        "Similarly, [A-Z] will match all uppercase and [1-9] will match all digits from 1 to 9. If we wanted all lowercase and uppercase alphabet letters, we can specify [a-zA-Z].\n",
        "\n",
        "The `^` at the beginning of a character set can be used to exclude the set. The set [^a-zA-Z] will match anything that is not a lowercase or uppercase letter."
      ]
    },
    {
      "cell_type": "markdown",
      "metadata": {
        "id": "hQNtr-i-EDVi"
      },
      "source": [
        "Matching cat, pat, mat, and excluding bat."
      ]
    },
    {
      "cell_type": "code",
      "metadata": {
        "colab": {
          "base_uri": "https://localhost:8080/"
        },
        "id": "f95dQ3rjDwAT",
        "outputId": "0d729980-393c-417b-e127-7a0fff1ce403"
      },
      "source": [
        "text = \"\"\"\n",
        "cat\n",
        "pat\n",
        "mat\n",
        "bat\n",
        "\"\"\"\n",
        "\n",
        "pattern = re.compile(r'[^b]at')\n",
        "\n",
        "matches = pattern.finditer(text)\n",
        "\n",
        "for match in matches:\n",
        "  print(match)"
      ],
      "execution_count": 15,
      "outputs": [
        {
          "output_type": "stream",
          "name": "stdout",
          "text": [
            "<re.Match object; span=(1, 4), match='cat'>\n",
            "<re.Match object; span=(5, 8), match='pat'>\n",
            "<re.Match object; span=(9, 12), match='mat'>\n"
          ]
        }
      ]
    },
    {
      "cell_type": "markdown",
      "metadata": {
        "id": "WVmavS0pFIJq"
      },
      "source": [
        "# **Quantifiers**"
      ]
    },
    {
      "cell_type": "markdown",
      "metadata": {
        "id": "B7S8UyIWFwux"
      },
      "source": [
        "We can use quantifiers to specify how many characters to match."
      ]
    },
    {
      "cell_type": "code",
      "metadata": {
        "colab": {
          "base_uri": "https://localhost:8080/"
        },
        "id": "5doC2orcFMFx",
        "outputId": "4afd4cb5-d030-43c3-a336-5d33bcdae81a"
      },
      "source": [
        "pattern = re.compile(r'\\d{3}.\\d{3}.\\d{4}')\n",
        "\n",
        "matches = pattern.finditer(text_to_search)\n",
        "\n",
        "for match in matches:\n",
        "  print(match)"
      ],
      "execution_count": 16,
      "outputs": [
        {
          "output_type": "stream",
          "name": "stdout",
          "text": [
            "<re.Match object; span=(155, 167), match='321-555-4321'>\n",
            "<re.Match object; span=(168, 180), match='123.555.1234'>\n",
            "<re.Match object; span=(181, 193), match='123*555*1234'>\n",
            "<re.Match object; span=(194, 206), match='800-555-1234'>\n",
            "<re.Match object; span=(207, 219), match='900-555-1234'>\n"
          ]
        }
      ]
    },
    {
      "cell_type": "markdown",
      "metadata": {
        "id": "sxGPgSSQGOti"
      },
      "source": [
        "The `?` is used for 0 or more matches."
      ]
    },
    {
      "cell_type": "code",
      "metadata": {
        "colab": {
          "base_uri": "https://localhost:8080/"
        },
        "id": "rdPIH9TlGJaY",
        "outputId": "35533730-1690-4638-f5bf-127b698ac86b"
      },
      "source": [
        "text = \"\"\"\n",
        "Mr. Schafer\n",
        "Mr Smith\n",
        "Ms Davis\n",
        "Mrs. Robinson\n",
        "Mr. T\n",
        "\"\"\"\n",
        "\n",
        "pattern = re.compile(r'Mr\\.?')\n",
        "\n",
        "matches = pattern.finditer(text)\n",
        "\n",
        "for match in matches:\n",
        "  print(match)"
      ],
      "execution_count": 17,
      "outputs": [
        {
          "output_type": "stream",
          "name": "stdout",
          "text": [
            "<re.Match object; span=(1, 4), match='Mr.'>\n",
            "<re.Match object; span=(13, 15), match='Mr'>\n",
            "<re.Match object; span=(31, 33), match='Mr'>\n",
            "<re.Match object; span=(45, 48), match='Mr.'>\n"
          ]
        }
      ]
    },
    {
      "cell_type": "markdown",
      "metadata": {
        "id": "ovLGffqKHCug"
      },
      "source": [
        "Lets match the Misters. Here we use `\\s` for one space. Since Mr. T is just one letter after Mr., we need to use the `*` quantifier for 0 or more word characters `\\w`."
      ]
    },
    {
      "cell_type": "code",
      "metadata": {
        "colab": {
          "base_uri": "https://localhost:8080/"
        },
        "id": "hb4qLhElHCE2",
        "outputId": "992da6f0-e621-4d49-a5a0-4ac3737c3cf4"
      },
      "source": [
        "text = \"\"\"\n",
        "Mr. Schafer\n",
        "Mr Smith\n",
        "Ms Davis\n",
        "Mrs. Robinson\n",
        "Mr. T\n",
        "\"\"\"\n",
        "\n",
        "pattern = re.compile(r'Mr\\.?\\s[A-Z]\\w*')\n",
        "\n",
        "matches = pattern.finditer(text)\n",
        "\n",
        "for match in matches:\n",
        "  print(match)"
      ],
      "execution_count": 18,
      "outputs": [
        {
          "output_type": "stream",
          "name": "stdout",
          "text": [
            "<re.Match object; span=(1, 12), match='Mr. Schafer'>\n",
            "<re.Match object; span=(13, 21), match='Mr Smith'>\n",
            "<re.Match object; span=(45, 50), match='Mr. T'>\n"
          ]
        }
      ]
    },
    {
      "cell_type": "markdown",
      "metadata": {
        "id": "YXQuVtlgIKMk"
      },
      "source": [
        "# **Groups**\n",
        "\n",
        "To match all of the names, we can use a group. We use parentheses to specify a group, and we can use bitwise operators within them. Here, we use the bitwise OR (|) operator to specify `s`, or `r`, or `rs` after the `M`."
      ]
    },
    {
      "cell_type": "code",
      "metadata": {
        "colab": {
          "base_uri": "https://localhost:8080/"
        },
        "id": "YCo1wZ_KIlxn",
        "outputId": "3dc81ace-2806-4ce1-bdb9-7fd75a3365c1"
      },
      "source": [
        "text = \"\"\"\n",
        "Mr. Schafer\n",
        "Mr Smith\n",
        "Ms Davis\n",
        "Mrs. Robinson\n",
        "Mr. T\n",
        "\"\"\"\n",
        "\n",
        "pattern = re.compile(r'M(s|r|rs).?\\s[A-Z]\\w*')\n",
        "\n",
        "matches = pattern.finditer(text)\n",
        "\n",
        "for match in matches:\n",
        "  print(match)"
      ],
      "execution_count": 19,
      "outputs": [
        {
          "output_type": "stream",
          "name": "stdout",
          "text": [
            "<re.Match object; span=(1, 12), match='Mr. Schafer'>\n",
            "<re.Match object; span=(13, 21), match='Mr Smith'>\n",
            "<re.Match object; span=(22, 30), match='Ms Davis'>\n",
            "<re.Match object; span=(31, 44), match='Mrs. Robinson'>\n",
            "<re.Match object; span=(45, 50), match='Mr. T'>\n"
          ]
        }
      ]
    },
    {
      "cell_type": "markdown",
      "metadata": {
        "id": "KT5rzKHQJUPR"
      },
      "source": [
        "Perhaps a more readable pattern is:"
      ]
    },
    {
      "cell_type": "code",
      "metadata": {
        "colab": {
          "base_uri": "https://localhost:8080/"
        },
        "id": "f_z8uM3MJSe3",
        "outputId": "e7ca2439-fa46-4785-ca99-70dd7b8d2ef3"
      },
      "source": [
        "pattern = re.compile(r'(Ms|Mr|Mrs).?\\s[A-Z]\\w*')\n",
        "\n",
        "matches = pattern.finditer(text)\n",
        "\n",
        "for match in matches:\n",
        "  print(match.group(0))"
      ],
      "execution_count": 20,
      "outputs": [
        {
          "output_type": "stream",
          "name": "stdout",
          "text": [
            "Mr. Schafer\n",
            "Mr Smith\n",
            "Ms Davis\n",
            "Mrs. Robinson\n",
            "Mr. T\n"
          ]
        }
      ]
    },
    {
      "cell_type": "markdown",
      "metadata": {
        "id": "AmV2sl4PNOu5"
      },
      "source": [
        "Matching emails. \n",
        "\n",
        "Here, we use a character set to match one or more characters within the set before the `@` symbol. Then we use another character set for one or more characters within the set before reaching a `.`, and finally we use a group for the domains."
      ]
    },
    {
      "cell_type": "code",
      "metadata": {
        "id": "0qNTVwNiNQn6",
        "colab": {
          "base_uri": "https://localhost:8080/"
        },
        "outputId": "3f62c80c-9e66-4705-a366-c75ad039b26f"
      },
      "source": [
        "emails = '''\n",
        "CoreyMSchafer@gmail.com\n",
        "corey.schafer@university.edu\n",
        "corey-321-schafer@my-work.net\n",
        "'''\n",
        "\n",
        "pattern = re.compile(r'[a-zA-Z0-9.-]+@[a-zA-Z-]+\\.(com|edu|net)')\n",
        "\n",
        "matches = pattern.finditer(emails)\n",
        "\n",
        "for match in matches:\n",
        "  print(match.group(0))"
      ],
      "execution_count": 27,
      "outputs": [
        {
          "output_type": "stream",
          "name": "stdout",
          "text": [
            "CoreyMSchafer@gmail.com\n",
            "corey.schafer@university.edu\n",
            "corey-321-schafer@my-work.net\n"
          ]
        }
      ]
    },
    {
      "cell_type": "markdown",
      "metadata": {
        "id": "K9JdUjgjQ30j"
      },
      "source": [
        "This is a regex from the web used to match emails."
      ]
    },
    {
      "cell_type": "code",
      "metadata": {
        "colab": {
          "base_uri": "https://localhost:8080/"
        },
        "id": "V2HNgtPxQ1XX",
        "outputId": "87308528-353d-4bb7-953e-bb3255d46139"
      },
      "source": [
        "pattern = re.compile(r'[a-zA-Z0-9_.+-]+@[a-zA-Z0-9-]+\\.[a-zA-Z0-9-.]+')\n",
        "\n",
        "matches = pattern.finditer(emails)\n",
        "\n",
        "for match in matches:\n",
        "    print(match.group(0))"
      ],
      "execution_count": 29,
      "outputs": [
        {
          "output_type": "stream",
          "name": "stdout",
          "text": [
            "CoreyMSchafer@gmail.com\n",
            "corey.schafer@university.edu\n",
            "corey-321-schafer@my-work.net\n"
          ]
        }
      ]
    },
    {
      "cell_type": "markdown",
      "metadata": {
        "id": "GDw8QqABR0I3"
      },
      "source": [
        "Matching URLs. Here we use groups to capture and later reference specific patterns in our match."
      ]
    },
    {
      "cell_type": "code",
      "metadata": {
        "colab": {
          "base_uri": "https://localhost:8080/"
        },
        "id": "2GX9nwnkR3cL",
        "outputId": "0673f93c-244b-4cfd-96ac-4faacc1a1b29"
      },
      "source": [
        "urls = '''\n",
        "https://www.google.com\n",
        "http://coreyms.com\n",
        "https://youtube.com\n",
        "https://www.nasa.gov\n",
        "'''\n",
        "\n",
        "pattern = re.compile(r'https?://(www\\.)?(\\w+)(\\.\\w+)')\n",
        "\n",
        "matches = pattern.finditer(urls)\n",
        "\n",
        "for match in matches:\n",
        "    print(match.group(0))"
      ],
      "execution_count": 32,
      "outputs": [
        {
          "output_type": "stream",
          "name": "stdout",
          "text": [
            "https://www.google.com\n",
            "http://coreyms.com\n",
            "https://youtube.com\n",
            "https://www.nasa.gov\n"
          ]
        }
      ]
    },
    {
      "cell_type": "markdown",
      "metadata": {
        "id": "ZH4Mmz1pUMcs"
      },
      "source": [
        "Reformatting the URLs using groups 2 and 3 of our pattern. group 0 is the entire match, group 1 is the optional `www.`"
      ]
    },
    {
      "cell_type": "code",
      "metadata": {
        "colab": {
          "base_uri": "https://localhost:8080/"
        },
        "id": "UJk5P9NoTsMP",
        "outputId": "00853d16-887d-439f-adbd-1e0e7efe2c6b"
      },
      "source": [
        "urls = '''\n",
        "https://www.google.com\n",
        "http://coreyms.com\n",
        "https://youtube.com\n",
        "https://www.nasa.gov\n",
        "'''\n",
        "\n",
        "pattern = re.compile(r'https?://(www\\.)?(\\w+)(\\.\\w+)')\n",
        "\n",
        "subbed_urls = pattern.sub(r'\\2\\3', urls)\n",
        "\n",
        "print(subbed_urls)"
      ],
      "execution_count": 33,
      "outputs": [
        {
          "output_type": "stream",
          "name": "stdout",
          "text": [
            "\n",
            "google.com\n",
            "coreyms.com\n",
            "youtube.com\n",
            "nasa.gov\n",
            "\n"
          ]
        }
      ]
    }
  ]
}